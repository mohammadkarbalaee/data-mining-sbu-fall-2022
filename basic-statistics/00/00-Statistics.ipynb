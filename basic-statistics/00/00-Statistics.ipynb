{
 "cells": [
  {
   "cell_type": "markdown",
   "source": [
    "# Initial imports\n",
    "We import associated libraries like pandas and numpy to load and interact with dataset."
   ],
   "metadata": {
    "collapsed": false,
    "pycharm": {
     "name": "#%% md\n"
    }
   }
  },
  {
   "cell_type": "code",
   "execution_count": 1,
   "outputs": [],
   "source": [
    "import pandas as pd\n",
    "import numpy as np\n",
    "import matplotlib.pyplot as plt\n",
    "import seaborn as sb\n",
    "import stemgraphic"
   ],
   "metadata": {
    "collapsed": false,
    "pycharm": {
     "name": "#%%\n"
    }
   }
  },
  {
   "cell_type": "markdown",
   "source": [
    "# Loading Dataset\n",
    "We use diabetes dataset in this notebook. So the first step is to load the dataset using pandas library and pandas DataFrame data type."
   ],
   "metadata": {
    "collapsed": false,
    "pycharm": {
     "name": "#%% md\n"
    }
   }
  },
  {
   "cell_type": "code",
   "execution_count": 2,
   "metadata": {
    "pycharm": {
     "name": "#%%\n"
    }
   },
   "outputs": [
    {
     "data": {
      "text/plain": "   AGE  SEX   BMI     BP   S1     S2    S3   S4      S5  S6    Y\n0   59    2  32.1  101.0  157   93.2  38.0  4.0  4.8598  87  151\n1   48    1  21.6   87.0  183  103.2  70.0  3.0  3.8918  69   75\n2   72    2  30.5   93.0  156   93.6  41.0  4.0  4.6728  85  141\n3   24    1  25.3   84.0  198  131.4  40.0  5.0  4.8903  89  206\n4   50    1  23.0  101.0  192  125.4  52.0  4.0  4.2905  80  135",
      "text/html": "<div>\n<style scoped>\n    .dataframe tbody tr th:only-of-type {\n        vertical-align: middle;\n    }\n\n    .dataframe tbody tr th {\n        vertical-align: top;\n    }\n\n    .dataframe thead th {\n        text-align: right;\n    }\n</style>\n<table border=\"1\" class=\"dataframe\">\n  <thead>\n    <tr style=\"text-align: right;\">\n      <th></th>\n      <th>AGE</th>\n      <th>SEX</th>\n      <th>BMI</th>\n      <th>BP</th>\n      <th>S1</th>\n      <th>S2</th>\n      <th>S3</th>\n      <th>S4</th>\n      <th>S5</th>\n      <th>S6</th>\n      <th>Y</th>\n    </tr>\n  </thead>\n  <tbody>\n    <tr>\n      <th>0</th>\n      <td>59</td>\n      <td>2</td>\n      <td>32.1</td>\n      <td>101.0</td>\n      <td>157</td>\n      <td>93.2</td>\n      <td>38.0</td>\n      <td>4.0</td>\n      <td>4.8598</td>\n      <td>87</td>\n      <td>151</td>\n    </tr>\n    <tr>\n      <th>1</th>\n      <td>48</td>\n      <td>1</td>\n      <td>21.6</td>\n      <td>87.0</td>\n      <td>183</td>\n      <td>103.2</td>\n      <td>70.0</td>\n      <td>3.0</td>\n      <td>3.8918</td>\n      <td>69</td>\n      <td>75</td>\n    </tr>\n    <tr>\n      <th>2</th>\n      <td>72</td>\n      <td>2</td>\n      <td>30.5</td>\n      <td>93.0</td>\n      <td>156</td>\n      <td>93.6</td>\n      <td>41.0</td>\n      <td>4.0</td>\n      <td>4.6728</td>\n      <td>85</td>\n      <td>141</td>\n    </tr>\n    <tr>\n      <th>3</th>\n      <td>24</td>\n      <td>1</td>\n      <td>25.3</td>\n      <td>84.0</td>\n      <td>198</td>\n      <td>131.4</td>\n      <td>40.0</td>\n      <td>5.0</td>\n      <td>4.8903</td>\n      <td>89</td>\n      <td>206</td>\n    </tr>\n    <tr>\n      <th>4</th>\n      <td>50</td>\n      <td>1</td>\n      <td>23.0</td>\n      <td>101.0</td>\n      <td>192</td>\n      <td>125.4</td>\n      <td>52.0</td>\n      <td>4.0</td>\n      <td>4.2905</td>\n      <td>80</td>\n      <td>135</td>\n    </tr>\n  </tbody>\n</table>\n</div>"
     },
     "execution_count": 2,
     "metadata": {},
     "output_type": "execute_result"
    }
   ],
   "source": [
    "dataset_path = \"../datasets/diabetes.csv\"\n",
    "df = pd.read_csv(dataset_path)\n",
    "df.head()"
   ]
  },
  {
   "cell_type": "markdown",
   "metadata": {
    "pycharm": {
     "name": "#%% md\n"
    }
   },
   "source": [
    "# Random Sampling"
   ]
  },
  {
   "cell_type": "code",
   "execution_count": 3,
   "metadata": {
    "pycharm": {
     "name": "#%%\n"
    }
   },
   "outputs": [
    {
     "data": {
      "text/plain": "     AGE  SEX   BMI      BP   S1     S2    S3   S4      S5   S6    Y\n17    68    2  27.5  111.00  214  147.0  39.0  5.0  4.9416   91  144\n350   41    2  32.0  126.00  198  104.2  49.0  4.0  5.4116  124  243\n433   41    1  20.8   86.00  223  128.2  83.0  3.0  4.0775   89   72\n57    41    1  20.5   80.00  124   48.8  64.0  2.0  4.0254   75   37\n40    50    2  25.6  101.00  229  162.2  43.0  5.0  4.7791  114  100\n141   41    1  30.8   81.00  214  152.0  28.0  7.6  5.1358  123  317\n321   75    1  31.2  117.67  229  138.8  29.0  7.9  5.7236  106  230\n205   40    1  30.7   99.00  177   85.4  50.0  4.0  5.3375   85   99\n45    56    2  23.1  104.00  181  116.4  47.0  4.0  4.4773   79   53\n189   48    1  20.2   95.00  187  117.4  53.0  4.0  4.4188   85   79",
      "text/html": "<div>\n<style scoped>\n    .dataframe tbody tr th:only-of-type {\n        vertical-align: middle;\n    }\n\n    .dataframe tbody tr th {\n        vertical-align: top;\n    }\n\n    .dataframe thead th {\n        text-align: right;\n    }\n</style>\n<table border=\"1\" class=\"dataframe\">\n  <thead>\n    <tr style=\"text-align: right;\">\n      <th></th>\n      <th>AGE</th>\n      <th>SEX</th>\n      <th>BMI</th>\n      <th>BP</th>\n      <th>S1</th>\n      <th>S2</th>\n      <th>S3</th>\n      <th>S4</th>\n      <th>S5</th>\n      <th>S6</th>\n      <th>Y</th>\n    </tr>\n  </thead>\n  <tbody>\n    <tr>\n      <th>17</th>\n      <td>68</td>\n      <td>2</td>\n      <td>27.5</td>\n      <td>111.00</td>\n      <td>214</td>\n      <td>147.0</td>\n      <td>39.0</td>\n      <td>5.0</td>\n      <td>4.9416</td>\n      <td>91</td>\n      <td>144</td>\n    </tr>\n    <tr>\n      <th>350</th>\n      <td>41</td>\n      <td>2</td>\n      <td>32.0</td>\n      <td>126.00</td>\n      <td>198</td>\n      <td>104.2</td>\n      <td>49.0</td>\n      <td>4.0</td>\n      <td>5.4116</td>\n      <td>124</td>\n      <td>243</td>\n    </tr>\n    <tr>\n      <th>433</th>\n      <td>41</td>\n      <td>1</td>\n      <td>20.8</td>\n      <td>86.00</td>\n      <td>223</td>\n      <td>128.2</td>\n      <td>83.0</td>\n      <td>3.0</td>\n      <td>4.0775</td>\n      <td>89</td>\n      <td>72</td>\n    </tr>\n    <tr>\n      <th>57</th>\n      <td>41</td>\n      <td>1</td>\n      <td>20.5</td>\n      <td>80.00</td>\n      <td>124</td>\n      <td>48.8</td>\n      <td>64.0</td>\n      <td>2.0</td>\n      <td>4.0254</td>\n      <td>75</td>\n      <td>37</td>\n    </tr>\n    <tr>\n      <th>40</th>\n      <td>50</td>\n      <td>2</td>\n      <td>25.6</td>\n      <td>101.00</td>\n      <td>229</td>\n      <td>162.2</td>\n      <td>43.0</td>\n      <td>5.0</td>\n      <td>4.7791</td>\n      <td>114</td>\n      <td>100</td>\n    </tr>\n    <tr>\n      <th>141</th>\n      <td>41</td>\n      <td>1</td>\n      <td>30.8</td>\n      <td>81.00</td>\n      <td>214</td>\n      <td>152.0</td>\n      <td>28.0</td>\n      <td>7.6</td>\n      <td>5.1358</td>\n      <td>123</td>\n      <td>317</td>\n    </tr>\n    <tr>\n      <th>321</th>\n      <td>75</td>\n      <td>1</td>\n      <td>31.2</td>\n      <td>117.67</td>\n      <td>229</td>\n      <td>138.8</td>\n      <td>29.0</td>\n      <td>7.9</td>\n      <td>5.7236</td>\n      <td>106</td>\n      <td>230</td>\n    </tr>\n    <tr>\n      <th>205</th>\n      <td>40</td>\n      <td>1</td>\n      <td>30.7</td>\n      <td>99.00</td>\n      <td>177</td>\n      <td>85.4</td>\n      <td>50.0</td>\n      <td>4.0</td>\n      <td>5.3375</td>\n      <td>85</td>\n      <td>99</td>\n    </tr>\n    <tr>\n      <th>45</th>\n      <td>56</td>\n      <td>2</td>\n      <td>23.1</td>\n      <td>104.00</td>\n      <td>181</td>\n      <td>116.4</td>\n      <td>47.0</td>\n      <td>4.0</td>\n      <td>4.4773</td>\n      <td>79</td>\n      <td>53</td>\n    </tr>\n    <tr>\n      <th>189</th>\n      <td>48</td>\n      <td>1</td>\n      <td>20.2</td>\n      <td>95.00</td>\n      <td>187</td>\n      <td>117.4</td>\n      <td>53.0</td>\n      <td>4.0</td>\n      <td>4.4188</td>\n      <td>85</td>\n      <td>79</td>\n    </tr>\n  </tbody>\n</table>\n</div>"
     },
     "execution_count": 3,
     "metadata": {},
     "output_type": "execute_result"
    }
   ],
   "source": [
    "df.sample(10)"
   ]
  },
  {
   "cell_type": "markdown",
   "metadata": {
    "pycharm": {
     "name": "#%% md\n"
    }
   },
   "source": [
    "# Scales\n",
    "## Interval Scale\n",
    "If an scale that is a real number, preserves the ratio of every two difference, its called an Internal Scale.\n",
    "\n",
    "For example in below we can show that column S2 that shows ldl of each person by the unit of mg/dL , is a kind of interval scale."
   ]
  },
  {
   "cell_type": "code",
   "execution_count": 4,
   "metadata": {
    "pycharm": {
     "name": "#%%\n"
    }
   },
   "outputs": [
    {
     "name": "stdout",
     "output_type": "stream",
     "text": [
      "The ratio in unit mg/dL is:  3.780000000000001\n"
     ]
    }
   ],
   "source": [
    "def get_interval_scale_ratio(x1, x2, x3, x4):\n",
    "    return (x4 - x3) / (x2 - x1)\n",
    "\n",
    "x1, x2, x3, x4 = df[:4]['S2']\n",
    "print(\"The ratio in unit mg/dL is: \", get_interval_scale_ratio(x1, x2, x3, x4))\n"
   ]
  },
  {
   "cell_type": "markdown",
   "metadata": {
    "pycharm": {
     "name": "#%% md\n"
    }
   },
   "source": [
    "And now we convert the unit from mg/dL to g/L in order to compare the ratio of new scale with previouse one."
   ]
  },
  {
   "cell_type": "code",
   "execution_count": 5,
   "metadata": {
    "pycharm": {
     "name": "#%%\n"
    }
   },
   "outputs": [
    {
     "name": "stdout",
     "output_type": "stream",
     "text": [
      "The ratio in unit g/L is:  3.780000000000002\n"
     ]
    }
   ],
   "source": [
    "def mgperdl_to_gperl(x):\n",
    "    return x * 0.01\n",
    "\n",
    "y1, y2, y3, y4 = [mgperdl_to_gperl(x) for x in [x1, x2, x3, x4]]\n",
    "print(\"The ratio in unit g/L is: \", get_interval_scale_ratio(y1, y2, y3, y4))\n"
   ]
  },
  {
   "cell_type": "markdown",
   "metadata": {
    "pycharm": {
     "name": "#%% md\n"
    }
   },
   "source": [
    "## Ratio Scale\n",
    "If a real number scale, preserves the ratio, it is called Ratio Scale.\n",
    "We use x1 and x2 and also y1 and y2 to demonstrate that ldl is a kind of Ratio Scale."
   ]
  },
  {
   "cell_type": "code",
   "execution_count": 6,
   "metadata": {
    "pycharm": {
     "name": "#%%\n"
    }
   },
   "outputs": [
    {
     "name": "stdout",
     "output_type": "stream",
     "text": [
      "The ratio of x1 and x2 is:  0.9031007751937985\n",
      "The ratio of y1 and y2 is:  0.9031007751937985\n"
     ]
    }
   ],
   "source": [
    "print(\"The ratio of x1 and x2 is: \", x1/ x2)\n",
    "print(\"The ratio of y1 and y2 is: \", y1/ y2)"
   ]
  },
  {
   "cell_type": "markdown",
   "metadata": {
    "pycharm": {
     "name": "#%% md\n"
    }
   },
   "source": [
    "# Variables\n",
    "There are two kinds of variables that is a feature of all data.\n",
    "1. Grouping Variables\n",
    "2. Quantitative Variables\n",
    "\n",
    "## Grouping Variables\n",
    "A grouping variable is a variable that is used to classify datas. It is measured by nominal or ordinal scales and classifies due to them."
   ]
  },
  {
   "cell_type": "code",
   "execution_count": 7,
   "metadata": {
    "pycharm": {
     "name": "#%%\n"
    }
   },
   "outputs": [
    {
     "name": "stdout",
     "output_type": "stream",
     "text": [
      "SEX 1 group: \n",
      "   AGE  SEX   BMI     BP   S1     S2    S3   S4      S5  S6    Y\n",
      "1   48    1  21.6   87.0  183  103.2  70.0  3.0  3.8918  69   75\n",
      "3   24    1  25.3   84.0  198  131.4  40.0  5.0  4.8903  89  206\n",
      "4   50    1  23.0  101.0  192  125.4  52.0  4.0  4.2905  80  135\n",
      "5   23    1  22.6   89.0  139   64.8  61.0  2.0  4.1897  68   97\n",
      "9   29    1  30.0   85.0  180   93.4  43.0  4.0  5.3845  88  310\n",
      "\n",
      "SEX 2 group: \n",
      "   AGE  SEX   BMI     BP   S1     S2    S3    S4      S5  S6    Y\n",
      "0   59    2  32.1  101.0  157   93.2  38.0  4.00  4.8598  87  151\n",
      "2   72    2  30.5   93.0  156   93.6  41.0  4.00  4.6728  85  141\n",
      "6   36    2  22.0   90.0  160   99.6  50.0  3.00  3.9512  82  138\n",
      "7   66    2  26.2  114.0  255  185.0  56.0  4.55  4.2485  92   63\n",
      "8   60    2  32.1   83.0  179  119.4  42.0  4.00  4.4773  94  110\n"
     ]
    }
   ],
   "source": [
    "grouped_data = df.groupby('SEX')\n",
    "print(\"SEX 1 group: \")\n",
    "print(grouped_data.get_group(1).head())\n",
    "print()\n",
    "print(\"SEX 2 group: \")\n",
    "print(grouped_data.get_group(2).head())\n"
   ]
  },
  {
   "cell_type": "markdown",
   "metadata": {
    "pycharm": {
     "name": "#%% md\n"
    }
   },
   "source": [
    "# Rounding continuous data \n",
    "ًWe can round datas of column S5 to two decimal places and also datas of column S2 to 0 decimal places at the same time."
   ]
  },
  {
   "cell_type": "code",
   "execution_count": 8,
   "metadata": {
    "pycharm": {
     "name": "#%%\n"
    }
   },
   "outputs": [
    {
     "data": {
      "text/plain": "   AGE  SEX   BMI     BP   S1     S2    S3   S4    S5  S6    Y\n0   59    2  32.1  101.0  157   93.0  38.0  4.0  4.86  87  151\n1   48    1  21.6   87.0  183  103.0  70.0  3.0  3.89  69   75\n2   72    2  30.5   93.0  156   94.0  41.0  4.0  4.67  85  141\n3   24    1  25.3   84.0  198  131.0  40.0  5.0  4.89  89  206\n4   50    1  23.0  101.0  192  125.0  52.0  4.0  4.29  80  135",
      "text/html": "<div>\n<style scoped>\n    .dataframe tbody tr th:only-of-type {\n        vertical-align: middle;\n    }\n\n    .dataframe tbody tr th {\n        vertical-align: top;\n    }\n\n    .dataframe thead th {\n        text-align: right;\n    }\n</style>\n<table border=\"1\" class=\"dataframe\">\n  <thead>\n    <tr style=\"text-align: right;\">\n      <th></th>\n      <th>AGE</th>\n      <th>SEX</th>\n      <th>BMI</th>\n      <th>BP</th>\n      <th>S1</th>\n      <th>S2</th>\n      <th>S3</th>\n      <th>S4</th>\n      <th>S5</th>\n      <th>S6</th>\n      <th>Y</th>\n    </tr>\n  </thead>\n  <tbody>\n    <tr>\n      <th>0</th>\n      <td>59</td>\n      <td>2</td>\n      <td>32.1</td>\n      <td>101.0</td>\n      <td>157</td>\n      <td>93.0</td>\n      <td>38.0</td>\n      <td>4.0</td>\n      <td>4.86</td>\n      <td>87</td>\n      <td>151</td>\n    </tr>\n    <tr>\n      <th>1</th>\n      <td>48</td>\n      <td>1</td>\n      <td>21.6</td>\n      <td>87.0</td>\n      <td>183</td>\n      <td>103.0</td>\n      <td>70.0</td>\n      <td>3.0</td>\n      <td>3.89</td>\n      <td>69</td>\n      <td>75</td>\n    </tr>\n    <tr>\n      <th>2</th>\n      <td>72</td>\n      <td>2</td>\n      <td>30.5</td>\n      <td>93.0</td>\n      <td>156</td>\n      <td>94.0</td>\n      <td>41.0</td>\n      <td>4.0</td>\n      <td>4.67</td>\n      <td>85</td>\n      <td>141</td>\n    </tr>\n    <tr>\n      <th>3</th>\n      <td>24</td>\n      <td>1</td>\n      <td>25.3</td>\n      <td>84.0</td>\n      <td>198</td>\n      <td>131.0</td>\n      <td>40.0</td>\n      <td>5.0</td>\n      <td>4.89</td>\n      <td>89</td>\n      <td>206</td>\n    </tr>\n    <tr>\n      <th>4</th>\n      <td>50</td>\n      <td>1</td>\n      <td>23.0</td>\n      <td>101.0</td>\n      <td>192</td>\n      <td>125.0</td>\n      <td>52.0</td>\n      <td>4.0</td>\n      <td>4.29</td>\n      <td>80</td>\n      <td>135</td>\n    </tr>\n  </tbody>\n</table>\n</div>"
     },
     "execution_count": 8,
     "metadata": {},
     "output_type": "execute_result"
    }
   ],
   "source": [
    "df.round({'S5': 2, 'S2': 0}).head()"
   ]
  },
  {
   "cell_type": "markdown",
   "metadata": {
    "pycharm": {
     "name": "#%% md\n"
    }
   },
   "source": [
    "# Frequency\n",
    "## Types of Frequency\n",
    "- Absolute Frequency\n",
    "- Relative Frequency\n",
    "- Cumulative Frequency\n",
    "- Cumulative Relative Frequency\n",
    "\n",
    "\n",
    "We can group S2 column (ldl) to 30 mg/dL width intervals. And then calculate each interval's frequency."
   ]
  },
  {
   "cell_type": "code",
   "execution_count": 9,
   "metadata": {
    "pycharm": {
     "name": "#%%\n"
    }
   },
   "outputs": [
    {
     "data": {
      "text/plain": "     AGE  SEX   BMI      BP   S1     S2    S3    S4      S5   S6    Y  \\\n0     59    2  32.1  101.00  157   93.2  38.0  4.00  4.8598   87  151   \n1     48    1  21.6   87.00  183  103.2  70.0  3.00  3.8918   69   75   \n2     72    2  30.5   93.00  156   93.6  41.0  4.00  4.6728   85  141   \n3     24    1  25.3   84.00  198  131.4  40.0  5.00  4.8903   89  206   \n4     50    1  23.0  101.00  192  125.4  52.0  4.00  4.2905   80  135   \n..   ...  ...   ...     ...  ...    ...   ...   ...     ...  ...  ...   \n437   60    2  28.2  112.00  185  113.8  42.0  4.00  4.9836   93  178   \n438   47    2  24.9   75.00  225  166.0  42.0  5.00  4.4427  102  104   \n439   60    2  24.9   99.67  162  106.6  43.0  3.77  4.1271   95  132   \n440   36    1  30.0   95.00  201  125.2  42.0  4.79  5.1299   85  220   \n441   36    1  19.6   71.00  250  133.2  97.0  3.00  4.5951   92   57   \n\n          s2_ranges  \n0     (70.0, 100.0]  \n1    (100.0, 130.0]  \n2     (70.0, 100.0]  \n3    (130.0, 160.0]  \n4    (100.0, 130.0]  \n..              ...  \n437  (100.0, 130.0]  \n438  (160.0, 190.0]  \n439  (100.0, 130.0]  \n440  (100.0, 130.0]  \n441  (130.0, 160.0]  \n\n[442 rows x 12 columns]",
      "text/html": "<div>\n<style scoped>\n    .dataframe tbody tr th:only-of-type {\n        vertical-align: middle;\n    }\n\n    .dataframe tbody tr th {\n        vertical-align: top;\n    }\n\n    .dataframe thead th {\n        text-align: right;\n    }\n</style>\n<table border=\"1\" class=\"dataframe\">\n  <thead>\n    <tr style=\"text-align: right;\">\n      <th></th>\n      <th>AGE</th>\n      <th>SEX</th>\n      <th>BMI</th>\n      <th>BP</th>\n      <th>S1</th>\n      <th>S2</th>\n      <th>S3</th>\n      <th>S4</th>\n      <th>S5</th>\n      <th>S6</th>\n      <th>Y</th>\n      <th>s2_ranges</th>\n    </tr>\n  </thead>\n  <tbody>\n    <tr>\n      <th>0</th>\n      <td>59</td>\n      <td>2</td>\n      <td>32.1</td>\n      <td>101.00</td>\n      <td>157</td>\n      <td>93.2</td>\n      <td>38.0</td>\n      <td>4.00</td>\n      <td>4.8598</td>\n      <td>87</td>\n      <td>151</td>\n      <td>(70.0, 100.0]</td>\n    </tr>\n    <tr>\n      <th>1</th>\n      <td>48</td>\n      <td>1</td>\n      <td>21.6</td>\n      <td>87.00</td>\n      <td>183</td>\n      <td>103.2</td>\n      <td>70.0</td>\n      <td>3.00</td>\n      <td>3.8918</td>\n      <td>69</td>\n      <td>75</td>\n      <td>(100.0, 130.0]</td>\n    </tr>\n    <tr>\n      <th>2</th>\n      <td>72</td>\n      <td>2</td>\n      <td>30.5</td>\n      <td>93.00</td>\n      <td>156</td>\n      <td>93.6</td>\n      <td>41.0</td>\n      <td>4.00</td>\n      <td>4.6728</td>\n      <td>85</td>\n      <td>141</td>\n      <td>(70.0, 100.0]</td>\n    </tr>\n    <tr>\n      <th>3</th>\n      <td>24</td>\n      <td>1</td>\n      <td>25.3</td>\n      <td>84.00</td>\n      <td>198</td>\n      <td>131.4</td>\n      <td>40.0</td>\n      <td>5.00</td>\n      <td>4.8903</td>\n      <td>89</td>\n      <td>206</td>\n      <td>(130.0, 160.0]</td>\n    </tr>\n    <tr>\n      <th>4</th>\n      <td>50</td>\n      <td>1</td>\n      <td>23.0</td>\n      <td>101.00</td>\n      <td>192</td>\n      <td>125.4</td>\n      <td>52.0</td>\n      <td>4.00</td>\n      <td>4.2905</td>\n      <td>80</td>\n      <td>135</td>\n      <td>(100.0, 130.0]</td>\n    </tr>\n    <tr>\n      <th>...</th>\n      <td>...</td>\n      <td>...</td>\n      <td>...</td>\n      <td>...</td>\n      <td>...</td>\n      <td>...</td>\n      <td>...</td>\n      <td>...</td>\n      <td>...</td>\n      <td>...</td>\n      <td>...</td>\n      <td>...</td>\n    </tr>\n    <tr>\n      <th>437</th>\n      <td>60</td>\n      <td>2</td>\n      <td>28.2</td>\n      <td>112.00</td>\n      <td>185</td>\n      <td>113.8</td>\n      <td>42.0</td>\n      <td>4.00</td>\n      <td>4.9836</td>\n      <td>93</td>\n      <td>178</td>\n      <td>(100.0, 130.0]</td>\n    </tr>\n    <tr>\n      <th>438</th>\n      <td>47</td>\n      <td>2</td>\n      <td>24.9</td>\n      <td>75.00</td>\n      <td>225</td>\n      <td>166.0</td>\n      <td>42.0</td>\n      <td>5.00</td>\n      <td>4.4427</td>\n      <td>102</td>\n      <td>104</td>\n      <td>(160.0, 190.0]</td>\n    </tr>\n    <tr>\n      <th>439</th>\n      <td>60</td>\n      <td>2</td>\n      <td>24.9</td>\n      <td>99.67</td>\n      <td>162</td>\n      <td>106.6</td>\n      <td>43.0</td>\n      <td>3.77</td>\n      <td>4.1271</td>\n      <td>95</td>\n      <td>132</td>\n      <td>(100.0, 130.0]</td>\n    </tr>\n    <tr>\n      <th>440</th>\n      <td>36</td>\n      <td>1</td>\n      <td>30.0</td>\n      <td>95.00</td>\n      <td>201</td>\n      <td>125.2</td>\n      <td>42.0</td>\n      <td>4.79</td>\n      <td>5.1299</td>\n      <td>85</td>\n      <td>220</td>\n      <td>(100.0, 130.0]</td>\n    </tr>\n    <tr>\n      <th>441</th>\n      <td>36</td>\n      <td>1</td>\n      <td>19.6</td>\n      <td>71.00</td>\n      <td>250</td>\n      <td>133.2</td>\n      <td>97.0</td>\n      <td>3.00</td>\n      <td>4.5951</td>\n      <td>92</td>\n      <td>57</td>\n      <td>(130.0, 160.0]</td>\n    </tr>\n  </tbody>\n</table>\n<p>442 rows × 12 columns</p>\n</div>"
     },
     "execution_count": 9,
     "metadata": {},
     "output_type": "execute_result"
    }
   ],
   "source": [
    "s2_freq_df = df.copy()\n",
    "n = 30\n",
    "first = 70\n",
    "s2_freq_df[\"s2_ranges\"] = (s2_freq_df['S2']\n",
    "         .sub(first).floordiv(n)\n",
    "         .mul(n).add(first).map(lambda x: pd.Interval(x, x + 30))\n",
    "         )\n",
    "s2_freq_df"
   ]
  },
  {
   "cell_type": "code",
   "execution_count": 10,
   "metadata": {
    "pycharm": {
     "name": "#%%\n"
    }
   },
   "outputs": [
    {
     "name": "stdout",
     "output_type": "stream",
     "text": [
      "Absolute Frequencies are as below: \n",
      "(40.0, 70.0]       26\n",
      "(70.0, 100.0]     110\n",
      "(100.0, 130.0]    182\n",
      "(130.0, 160.0]     89\n",
      "(160.0, 190.0]     27\n",
      "(190.0, 220.0]      7\n",
      "(220.0, 250.0]      1\n",
      "Name: f_i, dtype: int64\n",
      "\n"
     ]
    }
   ],
   "source": [
    "absolute_frequencies = s2_freq_df[\"s2_ranges\"].value_counts().sort_index()\n",
    "absolute_frequencies.rename(\"f_i\", inplace=True)\n",
    "print(\"Absolute Frequencies are as below: \")\n",
    "print(absolute_frequencies)\n",
    "print()"
   ]
  },
  {
   "cell_type": "code",
   "execution_count": 11,
   "metadata": {
    "pycharm": {
     "name": "#%%\n"
    }
   },
   "outputs": [
    {
     "name": "stdout",
     "output_type": "stream",
     "text": [
      "Relative Frequencies are as below: \n",
      "(40.0, 70.0]      0.058824\n",
      "(70.0, 100.0]     0.248869\n",
      "(100.0, 130.0]    0.411765\n",
      "(130.0, 160.0]    0.201357\n",
      "(160.0, 190.0]    0.061086\n",
      "(190.0, 220.0]    0.015837\n",
      "(220.0, 250.0]    0.002262\n",
      "Name: r_i, dtype: float64\n",
      "\n"
     ]
    }
   ],
   "source": [
    "relative_frequencies = s2_freq_df[\"s2_ranges\"].value_counts(normalize=True).sort_index()\n",
    "relative_frequencies.rename(\"r_i\", inplace=True)\n",
    "print(\"Relative Frequencies are as below: \")\n",
    "print(relative_frequencies)\n",
    "print()"
   ]
  },
  {
   "cell_type": "code",
   "execution_count": 12,
   "metadata": {
    "pycharm": {
     "name": "#%%\n"
    }
   },
   "outputs": [
    {
     "name": "stdout",
     "output_type": "stream",
     "text": [
      "Cumulative Frequencies are as below: \n",
      "(40.0, 70.0]       26\n",
      "(70.0, 100.0]     136\n",
      "(100.0, 130.0]    318\n",
      "(130.0, 160.0]    407\n",
      "(160.0, 190.0]    434\n",
      "(190.0, 220.0]    441\n",
      "(220.0, 250.0]    442\n",
      "Name: g_i, dtype: int64\n",
      "\n"
     ]
    }
   ],
   "source": [
    "cumulative_frequencies = absolute_frequencies.cumsum()\n",
    "cumulative_frequencies.rename(\"g_i\", inplace=True)\n",
    "print(\"Cumulative Frequencies are as below: \")\n",
    "print(cumulative_frequencies)\n",
    "print()"
   ]
  },
  {
   "cell_type": "code",
   "execution_count": 13,
   "metadata": {
    "pycharm": {
     "name": "#%%\n"
    }
   },
   "outputs": [
    {
     "name": "stdout",
     "output_type": "stream",
     "text": [
      "Cumulative Relative Frequencies are as below: \n",
      "(40.0, 70.0]      0.058824\n",
      "(70.0, 100.0]     0.307692\n",
      "(100.0, 130.0]    0.719457\n",
      "(130.0, 160.0]    0.920814\n",
      "(160.0, 190.0]    0.981900\n",
      "(190.0, 220.0]    0.997738\n",
      "(220.0, 250.0]    1.000000\n",
      "Name: s_i, dtype: float64\n",
      "\n"
     ]
    }
   ],
   "source": [
    "cumulative_relative_frequencies = relative_frequencies.cumsum()\n",
    "cumulative_relative_frequencies.rename(\"s_i\", inplace=True)\n",
    "print(\"Cumulative Relative Frequencies are as below: \")\n",
    "print(cumulative_relative_frequencies)\n",
    "print()"
   ]
  },
  {
   "cell_type": "markdown",
   "metadata": {
    "pycharm": {
     "name": "#%% md\n"
    }
   },
   "source": [
    "Also we can merge 3 series into one dataframe"
   ]
  },
  {
   "cell_type": "code",
   "execution_count": 14,
   "metadata": {
    "pycharm": {
     "name": "#%%\n"
    }
   },
   "outputs": [
    {
     "data": {
      "text/plain": "                f_i       r_i  g_i       s_i    c_i\n(40.0, 70.0]     26  0.058824   26  0.058824   55.0\n(70.0, 100.0]   110  0.248869  136  0.307692   85.0\n(100.0, 130.0]  182  0.411765  318  0.719457  115.0\n(130.0, 160.0]   89  0.201357  407  0.920814  145.0\n(160.0, 190.0]   27  0.061086  434  0.981900  175.0\n(190.0, 220.0]    7  0.015837  441  0.997738  205.0\n(220.0, 250.0]    1  0.002262  442  1.000000  235.0",
      "text/html": "<div>\n<style scoped>\n    .dataframe tbody tr th:only-of-type {\n        vertical-align: middle;\n    }\n\n    .dataframe tbody tr th {\n        vertical-align: top;\n    }\n\n    .dataframe thead th {\n        text-align: right;\n    }\n</style>\n<table border=\"1\" class=\"dataframe\">\n  <thead>\n    <tr style=\"text-align: right;\">\n      <th></th>\n      <th>f_i</th>\n      <th>r_i</th>\n      <th>g_i</th>\n      <th>s_i</th>\n      <th>c_i</th>\n    </tr>\n  </thead>\n  <tbody>\n    <tr>\n      <th>(40.0, 70.0]</th>\n      <td>26</td>\n      <td>0.058824</td>\n      <td>26</td>\n      <td>0.058824</td>\n      <td>55.0</td>\n    </tr>\n    <tr>\n      <th>(70.0, 100.0]</th>\n      <td>110</td>\n      <td>0.248869</td>\n      <td>136</td>\n      <td>0.307692</td>\n      <td>85.0</td>\n    </tr>\n    <tr>\n      <th>(100.0, 130.0]</th>\n      <td>182</td>\n      <td>0.411765</td>\n      <td>318</td>\n      <td>0.719457</td>\n      <td>115.0</td>\n    </tr>\n    <tr>\n      <th>(130.0, 160.0]</th>\n      <td>89</td>\n      <td>0.201357</td>\n      <td>407</td>\n      <td>0.920814</td>\n      <td>145.0</td>\n    </tr>\n    <tr>\n      <th>(160.0, 190.0]</th>\n      <td>27</td>\n      <td>0.061086</td>\n      <td>434</td>\n      <td>0.981900</td>\n      <td>175.0</td>\n    </tr>\n    <tr>\n      <th>(190.0, 220.0]</th>\n      <td>7</td>\n      <td>0.015837</td>\n      <td>441</td>\n      <td>0.997738</td>\n      <td>205.0</td>\n    </tr>\n    <tr>\n      <th>(220.0, 250.0]</th>\n      <td>1</td>\n      <td>0.002262</td>\n      <td>442</td>\n      <td>1.000000</td>\n      <td>235.0</td>\n    </tr>\n  </tbody>\n</table>\n</div>"
     },
     "execution_count": 14,
     "metadata": {},
     "output_type": "execute_result"
    }
   ],
   "source": [
    "s2_all_freq_df = pd.concat([absolute_frequencies, relative_frequencies, cumulative_frequencies, cumulative_relative_frequencies], axis=1)\n",
    "s2_all_freq_df[\"c_i\"] = s2_all_freq_df.index.map(lambda x: (x.left + x.right) / 2)\n",
    "s2_all_freq_df"
   ]
  },
  {
   "cell_type": "markdown",
   "metadata": {
    "pycharm": {
     "name": "#%% md\n"
    }
   },
   "source": [
    "# Plots"
   ]
  },
  {
   "cell_type": "markdown",
   "metadata": {
    "pycharm": {
     "name": "#%% md\n"
    }
   },
   "source": [
    "### Pie Plot"
   ]
  },
  {
   "cell_type": "code",
   "execution_count": 15,
   "metadata": {
    "pycharm": {
     "name": "#%%\n"
    }
   },
   "outputs": [
    {
     "name": "stdout",
     "output_type": "stream",
     "text": [
      "     AGE  SEX   BMI      BP   S1     S2    S3    S4      S5   S6    Y  \\\n",
      "0     59    2  32.1  101.00  157   93.2  38.0  4.00  4.8598   87  151   \n",
      "1     48    1  21.6   87.00  183  103.2  70.0  3.00  3.8918   69   75   \n",
      "2     72    2  30.5   93.00  156   93.6  41.0  4.00  4.6728   85  141   \n",
      "3     24    1  25.3   84.00  198  131.4  40.0  5.00  4.8903   89  206   \n",
      "4     50    1  23.0  101.00  192  125.4  52.0  4.00  4.2905   80  135   \n",
      "..   ...  ...   ...     ...  ...    ...   ...   ...     ...  ...  ...   \n",
      "437   60    2  28.2  112.00  185  113.8  42.0  4.00  4.9836   93  178   \n",
      "438   47    2  24.9   75.00  225  166.0  42.0  5.00  4.4427  102  104   \n",
      "439   60    2  24.9   99.67  162  106.6  43.0  3.77  4.1271   95  132   \n",
      "440   36    1  30.0   95.00  201  125.2  42.0  4.79  5.1299   85  220   \n",
      "441   36    1  19.6   71.00  250  133.2  97.0  3.00  4.5951   92   57   \n",
      "\n",
      "      BMI_bins  \n",
      "0        OBESE  \n",
      "1      HEALTHY  \n",
      "2        OBESE  \n",
      "3    OVERWEIGT  \n",
      "4      HEALTHY  \n",
      "..         ...  \n",
      "437  OVERWEIGT  \n",
      "438    HEALTHY  \n",
      "439    HEALTHY  \n",
      "440  OVERWEIGT  \n",
      "441    HEALTHY  \n",
      "\n",
      "[442 rows x 12 columns]\n"
     ]
    },
    {
     "data": {
      "text/plain": "<AxesSubplot:>"
     },
     "execution_count": 15,
     "metadata": {},
     "output_type": "execute_result"
    },
    {
     "data": {
      "text/plain": "<Figure size 640x480 with 1 Axes>",
      "image/png": "[encoded data removed]"
     },
     "metadata": {},
     "output_type": "display_data"
    }
   ],
   "source": [
    "bmi_labels = [\"UNDERWEIGHT\", \"HEALTHY\", \"OVERWEIGT\", \"OBESE\"]\n",
    "df_bmi_grouped = df.copy()\n",
    "df_bmi_grouped[\"BMI_bins\"] = pd.cut(\n",
    "    df_bmi_grouped['BMI'], bins=[0, 18.5, 25, 30, 40], labels=bmi_labels)\n",
    "print(df_bmi_grouped)\n",
    "df_bmi_grouped = df_bmi_grouped.groupby([\"BMI_bins\"]).size().sort_values()\n",
    "df_bmi_grouped.plot.pie(y=\"BMI_bins\", startangle=90)\n"
   ]
  },
  {
   "cell_type": "markdown",
   "metadata": {
    "pycharm": {
     "name": "#%% md\n"
    }
   },
   "source": [
    "### Bar Plot"
   ]
  },
  {
   "cell_type": "code",
   "execution_count": 16,
   "metadata": {
    "pycharm": {
     "name": "#%%\n"
    }
   },
   "outputs": [
    {
     "data": {
      "text/plain": "<AxesSubplot:xlabel='c_i'>"
     },
     "execution_count": 16,
     "metadata": {},
     "output_type": "execute_result"
    },
    {
     "data": {
      "text/plain": "<Figure size 640x480 with 1 Axes>",
      "image/png": "[encoded data removed]"
     },
     "metadata": {},
     "output_type": "display_data"
    }
   ],
   "source": [
    "s2_all_freq_df.plot.bar(x='c_i', y='f_i')"
   ]
  },
  {
   "cell_type": "markdown",
   "metadata": {
    "pycharm": {
     "name": "#%% md\n"
    }
   },
   "source": [
    "### Box Plot"
   ]
  },
  {
   "cell_type": "code",
   "execution_count": 17,
   "metadata": {
    "pycharm": {
     "name": "#%%\n"
    }
   },
   "outputs": [
    {
     "data": {
      "text/plain": "<AxesSubplot:>"
     },
     "execution_count": 17,
     "metadata": {},
     "output_type": "execute_result"
    },
    {
     "data": {
      "text/plain": "<Figure size 640x480 with 1 Axes>",
      "image/png": "[encoded data removed]"
     },
     "metadata": {},
     "output_type": "display_data"
    }
   ],
   "source": [
    "df.plot.box(column=[\"BP\"], vert=False)"
   ]
  },
  {
   "cell_type": "markdown",
   "metadata": {
    "pycharm": {
     "name": "#%% md\n"
    }
   },
   "source": [
    "### Line Chart"
   ]
  },
  {
   "cell_type": "code",
   "execution_count": 18,
   "metadata": {
    "pycharm": {
     "name": "#%%\n"
    }
   },
   "outputs": [
    {
     "data": {
      "text/plain": "<AxesSubplot:xlabel='S3_bins'>"
     },
     "execution_count": 18,
     "metadata": {},
     "output_type": "execute_result"
    },
    {
     "data": {
      "text/plain": "<Figure size 640x480 with 1 Axes>",
      "image/png": "[encoded data removed]"
     },
     "metadata": {},
     "output_type": "display_data"
    }
   ],
   "source": [
    "df_s3_grouped = df.copy()\n",
    "df_s3_grouped[\"S3_bins\"] = pd.cut(df_s3_grouped[\"S3\"], bins=10)\n",
    "df_s3_grouped = df_s3_grouped.groupby([\"S3_bins\"]).size().cumsum()\n",
    "df_s3_grouped.plot.line(y=\"S3_bins\")"
   ]
  },
  {
   "cell_type": "markdown",
   "metadata": {
    "pycharm": {
     "name": "#%% md\n"
    }
   },
   "source": [
    "### Heatmap"
   ]
  },
  {
   "cell_type": "code",
   "execution_count": 19,
   "metadata": {
    "pycharm": {
     "name": "#%%\n"
    }
   },
   "outputs": [
    {
     "data": {
      "text/plain": "<AxesSubplot:>"
     },
     "execution_count": 19,
     "metadata": {},
     "output_type": "execute_result"
    },
    {
     "data": {
      "text/plain": "<Figure size 640x480 with 2 Axes>",
      "image/png": "[encoded data removed]"
     },
     "metadata": {},
     "output_type": "display_data"
    }
   ],
   "source": [
    "sb.heatmap(df)"
   ]
  },
  {
   "cell_type": "markdown",
   "metadata": {
    "pycharm": {
     "name": "#%% md\n"
    }
   },
   "source": [
    "### Histogram"
   ]
  },
  {
   "cell_type": "code",
   "execution_count": 20,
   "metadata": {
    "pycharm": {
     "name": "#%%\n"
    }
   },
   "outputs": [
    {
     "data": {
      "text/plain": "<AxesSubplot:ylabel='Frequency'>"
     },
     "execution_count": 20,
     "metadata": {},
     "output_type": "execute_result"
    },
    {
     "data": {
      "text/plain": "<Figure size 640x480 with 1 Axes>",
      "image/png": "[encoded data removed]"
     },
     "metadata": {},
     "output_type": "display_data"
    },
    {
     "data": {
      "text/plain": "<Figure size 640x480 with 1 Axes>",
      "image/png": "[encoded data removed]"
     },
     "metadata": {},
     "output_type": "display_data"
    }
   ],
   "source": [
    "\n",
    "df.plot.hist(column=[\"S2\"], bins=   np.arange(40, 251, 30))\n",
    "df.plot.hist(column=[\"S2\"], bins=np.arange(40, 251, 30), cumulative=1)"
   ]
  },
  {
   "cell_type": "markdown",
   "metadata": {
    "pycharm": {
     "name": "#%% md\n"
    }
   },
   "source": [
    "### Frequency Diagram (+ Qumulative)"
   ]
  },
  {
   "cell_type": "code",
   "execution_count": 21,
   "metadata": {
    "pycharm": {
     "name": "#%%\n"
    }
   },
   "outputs": [
    {
     "data": {
      "text/plain": "[<matplotlib.lines.Line2D at 0x1d9f67e3640>]"
     },
     "execution_count": 21,
     "metadata": {},
     "output_type": "execute_result"
    },
    {
     "data": {
      "text/plain": "<Figure size 640x480 with 1 Axes>",
      "image/png": "[encoded data removed]"
     },
     "metadata": {},
     "output_type": "display_data"
    }
   ],
   "source": [
    "x = np.array([s2_all_freq_df.iloc[0]['c_i'] - 30, *s2_all_freq_df['c_i'], s2_all_freq_df.iloc[-1]['c_i'] + 30])\n",
    "y = np.array([0, *s2_all_freq_df['f_i'], 0])\n",
    "plt.plot(x, y)"
   ]
  },
  {
   "cell_type": "code",
   "execution_count": 22,
   "metadata": {
    "pycharm": {
     "name": "#%%\n"
    }
   },
   "outputs": [
    {
     "data": {
      "text/plain": "[<matplotlib.lines.Line2D at 0x1d9f6803a30>]"
     },
     "execution_count": 22,
     "metadata": {},
     "output_type": "execute_result"
    },
    {
     "data": {
      "text/plain": "<Figure size 640x480 with 1 Axes>",
      "image/png": "[encoded data removed]"
     },
     "metadata": {},
     "output_type": "display_data"
    }
   ],
   "source": [
    "x = np.array([s2_all_freq_df.iloc[0]['c_i'] - 30, *s2_all_freq_df['c_i'], s2_all_freq_df.iloc[-1]['c_i'] + 30])\n",
    "y = np.array([0, *s2_all_freq_df['g_i'], 0])\n",
    "plt.plot(x, y)"
   ]
  },
  {
   "cell_type": "markdown",
   "metadata": {
    "pycharm": {
     "name": "#%% md\n"
    }
   },
   "source": [
    "### Normal Frequency Curve"
   ]
  },
  {
   "cell_type": "code",
   "execution_count": 23,
   "metadata": {
    "pycharm": {
     "name": "#%%\n"
    }
   },
   "outputs": [
    {
     "ename": "ModuleNotFoundError",
     "evalue": "No module named 'scipy'",
     "output_type": "error",
     "traceback": [
      "\u001B[1;31m---------------------------------------------------------------------------\u001B[0m",
      "\u001B[1;31mModuleNotFoundError\u001B[0m                       Traceback (most recent call last)",
      "Cell \u001B[1;32mIn [23], line 1\u001B[0m\n\u001B[1;32m----> 1\u001B[0m \u001B[38;5;28;01mfrom\u001B[39;00m \u001B[38;5;21;01mscipy\u001B[39;00m\u001B[38;5;21;01m.\u001B[39;00m\u001B[38;5;21;01mstats\u001B[39;00m \u001B[38;5;28;01mimport\u001B[39;00m norm\n\u001B[0;32m      3\u001B[0m x_axis \u001B[38;5;241m=\u001B[39m np\u001B[38;5;241m.\u001B[39marange(\u001B[38;5;241m-\u001B[39m\u001B[38;5;241m20\u001B[39m, \u001B[38;5;241m20\u001B[39m, \u001B[38;5;241m0.01\u001B[39m)\n\u001B[0;32m      4\u001B[0m mean \u001B[38;5;241m=\u001B[39m \u001B[38;5;241m4\u001B[39m\n",
      "\u001B[1;31mModuleNotFoundError\u001B[0m: No module named 'scipy'"
     ]
    }
   ],
   "source": [
    "from scipy.stats import norm\n",
    "  \n",
    "x_axis = np.arange(-20, 20, 0.01)\n",
    "mean = 4\n",
    "std = 3\n",
    "  \n",
    "plt.plot(x_axis, norm.pdf(x_axis, mean, std))\n",
    "plt.show()\n",
    "plt.plot(x_axis, norm.cdf(x_axis, mean, std))\n",
    "plt.show()"
   ]
  },
  {
   "cell_type": "markdown",
   "metadata": {
    "pycharm": {
     "name": "#%% md\n"
    }
   },
   "source": [
    "# Estimates of Location"
   ]
  },
  {
   "cell_type": "markdown",
   "metadata": {
    "pycharm": {
     "name": "#%% md\n"
    }
   },
   "source": [
    "## Mean (Arithmetic)\n",
    "We can simply find the mean of the data in a column by calling `mean` method on it."
   ]
  },
  {
   "cell_type": "code",
   "execution_count": null,
   "metadata": {
    "pycharm": {
     "name": "#%%\n"
    }
   },
   "outputs": [],
   "source": [
    "df_s2_mean = df[\"S2\"].mean()\n",
    "print(\"The mean of column 'S2' is {} mg/dL\".format(df_s2_mean))"
   ]
  },
  {
   "cell_type": "markdown",
   "metadata": {
    "pycharm": {
     "name": "#%% md\n"
    }
   },
   "source": [
    "Also we can call mean method on whole dataframe to represent mean of every column in the table in a Pandas Series."
   ]
  },
  {
   "cell_type": "code",
   "execution_count": null,
   "metadata": {
    "pycharm": {
     "name": "#%%\n"
    }
   },
   "outputs": [],
   "source": [
    "print(\"The mean of each column are as below: \")\n",
    "df.mean()"
   ]
  },
  {
   "cell_type": "markdown",
   "metadata": {
    "pycharm": {
     "name": "#%% md\n"
    }
   },
   "source": [
    "## Geometric Mean\n",
    "The pandas dataframe class itself does not provide a method to calculate geometric mean.\n",
    "\n",
    "So we get help from `scipy` library."
   ]
  },
  {
   "cell_type": "code",
   "execution_count": null,
   "metadata": {
    "pycharm": {
     "name": "#%%\n"
    }
   },
   "outputs": [],
   "source": [
    "from scipy.stats.mstats import gmean\n",
    "df_s2_gmean = gmean(df[\"S2\"])\n",
    "print(\"The geometric mean of column 'S2' is {} mg/dL\".format(df_s2_gmean))"
   ]
  },
  {
   "cell_type": "markdown",
   "metadata": {
    "pycharm": {
     "name": "#%% md\n"
    }
   },
   "source": [
    "And we can also calculate the geometric mean for every column by the function provided by `scipy`."
   ]
  },
  {
   "cell_type": "code",
   "execution_count": null,
   "metadata": {
    "pycharm": {
     "name": "#%%\n"
    }
   },
   "outputs": [],
   "source": [
    "for col, gm in zip(df.columns, gmean(df)):\n",
    "    print(\"{} : {}\".format(col, gm))\n",
    "# gmean(df)"
   ]
  },
  {
   "cell_type": "markdown",
   "metadata": {
    "pycharm": {
     "name": "#%% md\n"
    }
   },
   "source": [
    "## Harmonic Mean\n",
    "Another kind of mean is harmonic mean that is also provided by `scipy` library"
   ]
  },
  {
   "cell_type": "code",
   "execution_count": null,
   "metadata": {
    "pycharm": {
     "name": "#%%\n"
    }
   },
   "outputs": [],
   "source": [
    "from scipy.stats.mstats import hmean\n",
    "df_s2_gmean = hmean(df[\"S2\"])\n",
    "print(\"The harmonic mean of column 'S2' is {} mg/dL\".format(df_s2_gmean))"
   ]
  },
  {
   "cell_type": "markdown",
   "metadata": {
    "pycharm": {
     "name": "#%% md\n"
    }
   },
   "source": [
    "And we can also calculate the harmonic mean for every column by the function provided by `scipy`."
   ]
  },
  {
   "cell_type": "code",
   "execution_count": null,
   "metadata": {
    "pycharm": {
     "name": "#%%\n"
    }
   },
   "outputs": [],
   "source": [
    "for col, gm in zip(df.columns, hmean(df)):\n",
    "    print(\"{} : {}\".format(col, gm))"
   ]
  },
  {
   "cell_type": "markdown",
   "metadata": {
    "pycharm": {
     "name": "#%% md\n"
    }
   },
   "source": [
    "## Median\n",
    "We can simply find the median of the data in a column by calling `median` method on it."
   ]
  },
  {
   "cell_type": "code",
   "execution_count": null,
   "metadata": {
    "pycharm": {
     "name": "#%%\n"
    }
   },
   "outputs": [],
   "source": [
    "df_s2_median = df[\"S2\"].median()\n",
    "print(\"The median of column 'S2' is {} mg/dL\".format(df_s2_median))"
   ]
  },
  {
   "cell_type": "markdown",
   "metadata": {
    "pycharm": {
     "name": "#%% md\n"
    }
   },
   "source": [
    "We can also calculate the whole dataframe's median easily."
   ]
  },
  {
   "cell_type": "code",
   "execution_count": null,
   "metadata": {
    "pycharm": {
     "name": "#%%\n"
    }
   },
   "outputs": [],
   "source": [
    "df.median()"
   ]
  },
  {
   "cell_type": "markdown",
   "metadata": {
    "pycharm": {
     "name": "#%% md\n"
    }
   },
   "source": [
    "## Quantiles\n",
    "Quantiles also can be calculated by method `quantile`. The quantile 0.5 is exactly the median."
   ]
  },
  {
   "cell_type": "code",
   "execution_count": null,
   "metadata": {
    "pycharm": {
     "name": "#%%\n"
    }
   },
   "outputs": [],
   "source": [
    "df.quantile(q=0.5)"
   ]
  },
  {
   "cell_type": "markdown",
   "metadata": {
    "pycharm": {
     "name": "#%% md\n"
    }
   },
   "source": [
    "But you can also call this method to calculate another quantiles like 0.1."
   ]
  },
  {
   "cell_type": "code",
   "execution_count": null,
   "metadata": {
    "pycharm": {
     "name": "#%%\n"
    }
   },
   "outputs": [],
   "source": [
    "df.quantile(q=0.6)"
   ]
  },
  {
   "cell_type": "markdown",
   "metadata": {
    "pycharm": {
     "name": "#%% md\n"
    }
   },
   "source": [
    "## Mode\n",
    "To calculate the mode of each column you can use `mode` method like below. Note that there may be more than one modes in the data, because of equality betweeen their frequencies."
   ]
  },
  {
   "cell_type": "code",
   "execution_count": null,
   "metadata": {
    "pycharm": {
     "name": "#%%\n"
    }
   },
   "outputs": [],
   "source": [
    "df['S2'].mode()"
   ]
  },
  {
   "cell_type": "markdown",
   "metadata": {
    "pycharm": {
     "name": "#%% md\n"
    }
   },
   "source": [
    "And of course you can call `mode` method on the whole dataframe instead of just one column."
   ]
  },
  {
   "cell_type": "code",
   "execution_count": null,
   "metadata": {
    "pycharm": {
     "name": "#%%\n"
    }
   },
   "outputs": [],
   "source": [
    "df.mode()"
   ]
  },
  {
   "cell_type": "markdown",
   "metadata": {
    "pycharm": {
     "name": "#%% md\n"
    }
   },
   "source": [
    "## Trimmed Mean\n",
    "Using scipy we can calculate trimmed mean for a column or even whole dataframe."
   ]
  },
  {
   "cell_type": "code",
   "execution_count": null,
   "metadata": {
    "pycharm": {
     "name": "#%%\n"
    }
   },
   "outputs": [],
   "source": [
    "from scipy.stats import trim_mean\n",
    "df_s2_tmean = trim_mean(df[\"S2\"], proportiontocut=0.15)\n",
    "print(\"Trimmed mean of S2 column with proportion cut of 15% is {}.\".format(df_s2_tmean))\n",
    "print(\"Trimmed mean for whole dataframe with proportion cut of 15% is as below: \")\n",
    "for col, mean in zip(df.columns, trim_mean(df, 0.15)):\n",
    "    print(\"{} : {}\".format(col, mean))"
   ]
  },
  {
   "cell_type": "markdown",
   "metadata": {
    "pycharm": {
     "name": "#%% md\n"
    }
   },
   "source": [
    "# Estimates of Variability"
   ]
  },
  {
   "cell_type": "markdown",
   "metadata": {
    "pycharm": {
     "name": "#%% md\n"
    }
   },
   "source": [
    "## Range\n",
    "Finding range in python. The difference between min and max."
   ]
  },
  {
   "cell_type": "code",
   "execution_count": null,
   "metadata": {
    "pycharm": {
     "name": "#%%\n"
    }
   },
   "outputs": [],
   "source": [
    "df_s2_range = df[\"S2\"].max() - df[\"S2\"].min()\n",
    "df_s2_range\n",
    "print(\"The range of column S2 is : {}.\".format(df_s2_range))\n",
    "\n",
    "print(\"And below is the range of whole dataframe: \")\n",
    "df.max() - df.min()"
   ]
  },
  {
   "cell_type": "markdown",
   "metadata": {
    "pycharm": {
     "name": "#%% md\n"
    }
   },
   "source": [
    "## Mean Absolute Deviation\n",
    "The mean absolute deviation can be calculated by `mad` method"
   ]
  },
  {
   "cell_type": "code",
   "execution_count": null,
   "metadata": {
    "pycharm": {
     "name": "#%%\n"
    }
   },
   "outputs": [],
   "source": [
    "df_s2 = df[\"S2\"].copy()\n",
    "df_s2_mad = (df_s2 - df_s2.mean()).abs().mean()\n",
    "print(\"The mean absolute deviation of column S2 is: {}.\".format(df_s2_mad))\n",
    "print(\"And the mean absolute deviation of whole dataframe are as below: \")\n",
    "(df - df.mean()).abs().mean()"
   ]
  },
  {
   "cell_type": "markdown",
   "metadata": {
    "pycharm": {
     "name": "#%% md\n"
    }
   },
   "source": [
    "## Variance and Standard Deviation\n",
    "Variance and Standard Deviation can be calculated by `var` and `std` method."
   ]
  },
  {
   "cell_type": "code",
   "execution_count": null,
   "metadata": {
    "pycharm": {
     "name": "#%%\n"
    }
   },
   "outputs": [],
   "source": [
    "df_s2_var = df[\"S2\"].var()\n",
    "df_s2_std = df[\"S2\"].std()\n",
    "print(\"Variance of column S2 is {} and its standard deviation is {}.\".format(df_s2_var, df_s2_std))\n",
    "print(\"Variance of whole dataframe: \")\n",
    "print(df.var())\n",
    "print(\"Standard Deviation of whole dataframe: \")\n",
    "print(df.std())"
   ]
  },
  {
   "cell_type": "markdown",
   "metadata": {
    "pycharm": {
     "name": "#%% md\n"
    }
   },
   "source": [
    "## Data Standardization"
   ]
  },
  {
   "cell_type": "code",
   "execution_count": null,
   "metadata": {
    "pycharm": {
     "name": "#%%\n"
    }
   },
   "outputs": [],
   "source": [
    "def standardize_data(data):\n",
    "    return (data - data.mean()) / data.std()\n",
    "\n",
    "standardized_data_s2 = standardize_data(df['S2'])\n",
    "\n",
    "print(\"Here's standardized data in another dataframe.\")\n",
    "print(standardized_data_s2)\n",
    "\n",
    "print(\"The mean of standardized data is 0 and its variance is 1.\")\n",
    "print(\"Mean =\", round(standardized_data_s2.mean(), 4))\n",
    "print(\"Var =\", round(standardized_data_s2.var(), 4))"
   ]
  },
  {
   "cell_type": "markdown",
   "metadata": {
    "pycharm": {
     "name": "#%% md\n"
    }
   },
   "source": [
    "## Coefficient of variation"
   ]
  },
  {
   "cell_type": "code",
   "execution_count": null,
   "metadata": {
    "pycharm": {
     "name": "#%%\n"
    }
   },
   "outputs": [],
   "source": [
    "df_s2_cv = df[\"S2\"].std() / df[\"S2\"].mean()\n",
    "print(\"Coefficient of Variation of S2 is: {}.\".format(df_s2_cv))\n",
    "\n",
    "print(\"Coefficient of Variation of whole dataframe are as below: \")\n",
    "df.std() / df.mean()"
   ]
  },
  {
   "cell_type": "markdown",
   "metadata": {
    "pycharm": {
     "name": "#%% md\n"
    }
   },
   "source": [
    "## Quarters' half range\n",
    "To calculate half range of some data we can calculate average of first and third quarter."
   ]
  },
  {
   "cell_type": "code",
   "execution_count": null,
   "metadata": {
    "pycharm": {
     "name": "#%%\n"
    }
   },
   "outputs": [],
   "source": [
    "df_s2_qhr = (df[\"S2\"].quantile(0.75) - df[\"S2\"].quantile(0.25)) / 2\n",
    "print(\"Quarters' half range of column S2 is\", df_s2_qhr)\n",
    "\n",
    "print(\"Quarters' half range of whole dataframe: \")\n",
    "(df.quantile(0.75) - df.quantile(0.25)) / 2"
   ]
  },
  {
   "cell_type": "markdown",
   "metadata": {
    "pycharm": {
     "name": "#%% md\n"
    }
   },
   "source": [
    "### Interquartile range\n",
    "Interquartile range is the first derivative of Quarters' half range. It is a kind of estimates of location."
   ]
  },
  {
   "cell_type": "code",
   "execution_count": null,
   "metadata": {
    "pycharm": {
     "name": "#%%\n"
    }
   },
   "outputs": [],
   "source": [
    "df_s2_iqr = (df[\"S2\"].quantile(0.25) + df[\"S2\"].quantile(0.75)) / 2\n",
    "print(\"Interquartile range of column S2 is\", df_s2_iqr)\n",
    "\n",
    "print(\"Interquartile range of whole dataframe: \")\n",
    "(df.quantile(0.25) + df.quantile(0.75)) / 2"
   ]
  },
  {
   "cell_type": "markdown",
   "metadata": {
    "pycharm": {
     "name": "#%% md\n"
    }
   },
   "source": [
    "# Moment\n",
    "To calculate the `r`th central moment you can run as below: "
   ]
  },
  {
   "cell_type": "code",
   "execution_count": null,
   "metadata": {
    "pycharm": {
     "name": "#%%\n"
    }
   },
   "outputs": [],
   "source": [
    "from scipy.stats import moment\n",
    "r = 3\n",
    "moment(df[\"S2\"], r)"
   ]
  },
  {
   "cell_type": "markdown",
   "metadata": {
    "pycharm": {
     "name": "#%% md\n"
    }
   },
   "source": [
    "# Skewness"
   ]
  },
  {
   "cell_type": "code",
   "execution_count": null,
   "metadata": {
    "pycharm": {
     "name": "#%%\n"
    }
   },
   "outputs": [],
   "source": [
    "df[\"S6\"].skew()"
   ]
  },
  {
   "cell_type": "markdown",
   "metadata": {
    "pycharm": {
     "name": "#%% md\n"
    }
   },
   "source": [
    "- We can calculate whole dataframe's skewness like below."
   ]
  },
  {
   "cell_type": "code",
   "execution_count": null,
   "metadata": {
    "pycharm": {
     "name": "#%%\n"
    }
   },
   "outputs": [],
   "source": [
    "df.skew()"
   ]
  },
  {
   "cell_type": "markdown",
   "metadata": {
    "pycharm": {
     "name": "#%% md\n"
    }
   },
   "source": [
    "# Kurtosis"
   ]
  },
  {
   "cell_type": "code",
   "execution_count": null,
   "metadata": {
    "pycharm": {
     "name": "#%%\n"
    }
   },
   "outputs": [],
   "source": [
    "df[\"S4\"].kurtosis()"
   ]
  },
  {
   "cell_type": "markdown",
   "metadata": {
    "pycharm": {
     "name": "#%% md\n"
    }
   },
   "source": [
    "- We can calculate whole dataframe's kurtosis like below."
   ]
  },
  {
   "cell_type": "code",
   "execution_count": null,
   "metadata": {
    "pycharm": {
     "name": "#%%\n"
    }
   },
   "outputs": [],
   "source": [
    "df.kurtosis()"
   ]
  },
  {
   "cell_type": "markdown",
   "metadata": {
    "pycharm": {
     "name": "#%% md\n"
    }
   },
   "source": [
    "# Stem and Leaf Diagram"
   ]
  },
  {
   "cell_type": "code",
   "execution_count": null,
   "metadata": {
    "pycharm": {
     "name": "#%%\n"
    }
   },
   "outputs": [],
   "source": [
    "stemgraphic.stem_graphic(df[\"S2\"], scale=10)"
   ]
  },
  {
   "cell_type": "markdown",
   "metadata": {
    "pycharm": {
     "name": "#%% md\n"
    }
   },
   "source": [
    "# Normal Curve"
   ]
  },
  {
   "cell_type": "code",
   "execution_count": null,
   "metadata": {
    "pycharm": {
     "name": "#%%\n"
    }
   },
   "outputs": [],
   "source": [
    "from scipy.stats import norm\n",
    "\n",
    "x_axis = np.arange(-20, 20, 0.01)\n",
    "mean = x_axis.mean()\n",
    "std = x_axis.std()\n",
    "plt.plot(x_axis, norm.pdf(x_axis, mean, std))\n",
    "plt.show()\n",
    "plt.boxplot(x_axis, vert=False)\n",
    "plt.show()"
   ]
  }
 ],
 "metadata": {
  "kernelspec": {
   "display_name": "Python 3 (ipykernel)",
   "language": "python",
   "name": "python3"
  },
  "language_info": {
   "codemirror_mode": {
    "name": "ipython",
    "version": 3
   },
   "file_extension": ".py",
   "mimetype": "text/x-python",
   "name": "python",
   "nbconvert_exporter": "python",
   "pygments_lexer": "ipython3",
   "version": "3.10.5"
  },
  "vscode": {
   "interpreter": {
    "hash": "81794d4967e6c3204c66dcd87b604927b115b27c00565d3d43f05ba2f3a2cb0d"
   }
  }
 },
 "nbformat": 4,
 "nbformat_minor": 2
}